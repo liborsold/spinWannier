{
 "cells": [
  {
   "cell_type": "code",
   "execution_count": null,
   "metadata": {},
   "outputs": [],
   "source": [
    "from spinWannier.WannierTBmodel import WannierTBmodel\n",
    "\n",
    "# Create a WannierTBmodel object\n",
    "model = WannierTBmodel()\n",
    "model.interpolate_bands_and_spin(kmesh_2D=False, kmesh_density=101, kmesh_2D_limits=[-0.5, 0.5], \\\n",
    "                                   save_bands_spin_texture=True)\n",
    "model.plot1D_bands(fout='spin_texture_1D_home_made.jpg', yaxis_lim=[-8, 6])"
   ]
  }
 ],
 "metadata": {
  "language_info": {
   "name": "python"
  },
  "orig_nbformat": 4
 },
 "nbformat": 4,
 "nbformat_minor": 2
}
