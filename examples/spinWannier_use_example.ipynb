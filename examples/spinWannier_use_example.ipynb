{
 "cells": [
  {
   "cell_type": "code",
   "execution_count": 2,
   "metadata": {},
   "outputs": [
    {
     "name": "stdout",
     "output_type": "stream",
     "text": [
      "./wannier_files_CrTe2/u_dict.pickle written!\n",
      "Umnk keys len 25\n",
      "./wannier_files_CrTe2/u_dis_dict.pickle written!\n",
      "Umnk keys len 25\n",
      "./wannier_files_CrTe2/tb_model_wann90/bands_spin_2D.pickle\n",
      "got here\n",
      "got here 2\n",
      "got here 3\n",
      "got here 4\n",
      "got here 5\n",
      "average Sz -0.21048102499435495\n"
     ]
    },
    {
     "name": "stderr",
     "output_type": "stream",
     "text": [
      "C:\\Users\\lv268562\\Documents\\PhD work\\Scripts\\spinWannier\\src\\spinWannier\\wannier_utils.py:1124: SettingWithCopyWarning: \n",
      "A value is trying to be set on a copy of a slice from a DataFrame.\n",
      "Try using .loc[row_indexer,col_indexer] = value instead\n",
      "\n",
      "See the caveats in the documentation: https://pandas.pydata.org/pandas-docs/stable/user_guide/indexing.html#returning-a-view-versus-a-copy\n",
      "  df_temp['closest_anchor'] = df_temp['phi'].apply(lambda x: phi_anchors[np.argmin(np.abs(phi_anchors - x))])\n",
      "C:\\Users\\lv268562\\Documents\\PhD work\\Scripts\\spinWannier\\src\\spinWannier\\wannier_utils.py:1125: SettingWithCopyWarning: \n",
      "A value is trying to be set on a copy of a slice from a DataFrame.\n",
      "Try using .loc[row_indexer,col_indexer] = value instead\n",
      "\n",
      "See the caveats in the documentation: https://pandas.pydata.org/pandas-docs/stable/user_guide/indexing.html#returning-a-view-versus-a-copy\n",
      "  df_temp['anchor_difference'] = (df_temp['phi'] - df_temp['closest_anchor']).abs()\n",
      "C:\\Users\\lv268562\\Documents\\PhD work\\Scripts\\spinWannier\\src\\spinWannier\\wannier_utils.py:1124: SettingWithCopyWarning: \n",
      "A value is trying to be set on a copy of a slice from a DataFrame.\n",
      "Try using .loc[row_indexer,col_indexer] = value instead\n",
      "\n",
      "See the caveats in the documentation: https://pandas.pydata.org/pandas-docs/stable/user_guide/indexing.html#returning-a-view-versus-a-copy\n",
      "  df_temp['closest_anchor'] = df_temp['phi'].apply(lambda x: phi_anchors[np.argmin(np.abs(phi_anchors - x))])\n",
      "C:\\Users\\lv268562\\Documents\\PhD work\\Scripts\\spinWannier\\src\\spinWannier\\wannier_utils.py:1125: SettingWithCopyWarning: \n",
      "A value is trying to be set on a copy of a slice from a DataFrame.\n",
      "Try using .loc[row_indexer,col_indexer] = value instead\n",
      "\n",
      "See the caveats in the documentation: https://pandas.pydata.org/pandas-docs/stable/user_guide/indexing.html#returning-a-view-versus-a-copy\n",
      "  df_temp['anchor_difference'] = (df_temp['phi'] - df_temp['closest_anchor']).abs()\n"
     ]
    }
   ],
   "source": [
    "from spinWannier.WannierTBmodel import WannierTBmodel\n",
    "\n",
    "model_files_folder='./wannier_files_CrTe2/'\n",
    "\n",
    "# Create a WannierTBmodel object, load the model\n",
    "model = WannierTBmodel(model_dir=model_files_folder)\n",
    "\n",
    "# 1D interpolation and plotting\n",
    "# model.interpolate_bands_and_spin(kmesh_2D=False, kmesh_density=201, kmesh_2D_limits=[-0.5, 0.5], \\\n",
    "#                                    save_bands_spin_texture=True)\n",
    "# model.plot1D_bands(fout='spin_texture_1D_home_made.jpg', yaxis_lim=[-8, 6])\n",
    "\n",
    "# 2D interpolation and plotting\n",
    "model.interpolate_bands_and_spin(kmesh_2D=True, kmesh_density=51, kmesh_2D_limits=[-0.5, 0.5], \\\n",
    "                                   save_bands_spin_texture=True)\n",
    "model.plot2D_spin_texture()\n"
   ]
  }
 ],
 "metadata": {
  "kernelspec": {
   "display_name": "Python 3",
   "language": "python",
   "name": "python3"
  },
  "language_info": {
   "codemirror_mode": {
    "name": "ipython",
    "version": 3
   },
   "file_extension": ".py",
   "mimetype": "text/x-python",
   "name": "python",
   "nbconvert_exporter": "python",
   "pygments_lexer": "ipython3",
   "version": "3.10.0"
  },
  "orig_nbformat": 4
 },
 "nbformat": 4,
 "nbformat_minor": 2
}
