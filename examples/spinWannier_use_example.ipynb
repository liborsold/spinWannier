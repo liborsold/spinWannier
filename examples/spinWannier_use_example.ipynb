{
 "cells": [
  {
   "cell_type": "code",
   "execution_count": 1,
   "metadata": {},
   "outputs": [],
   "source": [
    "from spinWannier.WannierTBmodel import WannierTBmodel"
   ]
  },
  {
   "cell_type": "code",
   "execution_count": 2,
   "metadata": {},
   "outputs": [
    {
     "name": "stdout",
     "output_type": "stream",
     "text": [
      "CrSTe_minimal/2_wannier/u_dict.pickle written!\n",
      "Umnk keys len 625\n",
      "CrSTe_minimal/2_wannier/u_dis_dict.pickle written!\n",
      "Umnk keys len 625\n"
     ]
    }
   ],
   "source": [
    "    # directories\n",
    "model_folder='CrSTe_minimal'\n",
    "\n",
    "sc_dir=f'{model_folder}/0_self-consistent'\n",
    "nsc_dir=f'{model_folder}/1_non-self-consistent'\n",
    "wann_dir=f'{model_folder}/2_wannier'\n",
    "bands_dir=f'{model_folder}/1_band_structure'\n",
    "tb_model_dir=f'{model_folder}/2_wannier/tb_model_wann90'\n",
    "\n",
    "spn_file_extension = 'spn'\n",
    "spn_formatted = False\n",
    "\n",
    "data_saving_format = 'pickle' #'parquet' #\n",
    "\n",
    "\n",
    "# Create a WannierTBmodel object, load the model\n",
    "model = WannierTBmodel(sc_dir=sc_dir, nsc_dir=nsc_dir, wann_dir=wann_dir, bands_dir=bands_dir, tb_model_dir=tb_model_dir, \\\n",
    "                       data_saving_format=data_saving_format, \\\n",
    "                       spn_file_extension=spn_file_extension, spn_formatted=spn_formatted)"
   ]
  },
  {
   "cell_type": "markdown",
   "metadata": {},
   "source": [
    "## 1D spin-colored band structure"
   ]
  },
  {
   "cell_type": "code",
   "execution_count": 3,
   "metadata": {},
   "outputs": [],
   "source": [
    "kpoint_matrix = [\n",
    "                [(0.333333,  0.333333,  0.000000),    (0.00,  0.00,  0.00)],\n",
    "                [(0.00,  0.00,  0.00),    (0.50, 0.00,  0.00)],\n",
    "                [(0.50, 0.00,  0.00),    (0.333333,  0.333333,  0.000000)]\n",
    "                ]"
   ]
  },
  {
   "cell_type": "code",
   "execution_count": 4,
   "metadata": {},
   "outputs": [
    {
     "name": "stdout",
     "output_type": "stream",
     "text": [
      "CrSTe_minimal/2_wannier/tb_model_wann90/bands_spin_11.parquet\n"
     ]
    },
    {
     "name": "stderr",
     "output_type": "stream",
     "text": [
      "c:\\Python310\\lib\\site-packages\\matplotlib\\axes\\_axes.py:4411: ComplexWarning: Casting complex values to real discards the imaginary part\n",
      "  c = np.asanyarray(c, dtype=float)\n"
     ]
    }
   ],
   "source": [
    "kpath_ticks = ['K', 'G', 'M', 'K']\n",
    "Nk = 11\n",
    "fout_1D = f'bands_spin_{Nk}'\n",
    "\n",
    "model.interpolate_bands_and_spin(kpoint_matrix, kpath_ticks=kpath_ticks, kmesh_2D=False, kmesh_density=Nk, \\\n",
    "                                 kmesh_2D_limits=[-0.5, 0.5], save_bands_spin_texture=True, fout=fout_1D)\n",
    "model.plot1D_bands(fout='spin_texture_1D_home_made.jpg', yaxis_lim=[-6.6, 7.5])\n"
   ]
  },
  {
   "cell_type": "markdown",
   "metadata": {},
   "source": [
    "# 2D spin textures"
   ]
  },
  {
   "cell_type": "code",
   "execution_count": 5,
   "metadata": {},
   "outputs": [
    {
     "name": "stdout",
     "output_type": "stream",
     "text": [
      "The file bands_spin_2D_6x6.parquet already exists in f'CrSTe_minimal/2_wannier/tb_model_wann90/'.\n",
      "Skipping the calculation, loading the data instead!\n",
      "\n"
     ]
    },
    {
     "ename": "KeyError",
     "evalue": "'kx'",
     "output_type": "error",
     "traceback": [
      "\u001b[1;31m---------------------------------------------------------------------------\u001b[0m",
      "\u001b[1;31mKeyError\u001b[0m                                  Traceback (most recent call last)",
      "File \u001b[1;32mc:\\Python310\\lib\\site-packages\\pandas\\core\\indexes\\base.py:3629\u001b[0m, in \u001b[0;36mIndex.get_loc\u001b[1;34m(self, key, method, tolerance)\u001b[0m\n\u001b[0;32m   3628\u001b[0m \u001b[39mtry\u001b[39;00m:\n\u001b[1;32m-> 3629\u001b[0m     \u001b[39mreturn\u001b[39;00m \u001b[39mself\u001b[39;49m\u001b[39m.\u001b[39;49m_engine\u001b[39m.\u001b[39;49mget_loc(casted_key)\n\u001b[0;32m   3630\u001b[0m \u001b[39mexcept\u001b[39;00m \u001b[39mKeyError\u001b[39;00m \u001b[39mas\u001b[39;00m err:\n",
      "File \u001b[1;32mc:\\Python310\\lib\\site-packages\\pandas\\_libs\\index.pyx:136\u001b[0m, in \u001b[0;36mpandas._libs.index.IndexEngine.get_loc\u001b[1;34m()\u001b[0m\n",
      "File \u001b[1;32mc:\\Python310\\lib\\site-packages\\pandas\\_libs\\index.pyx:163\u001b[0m, in \u001b[0;36mpandas._libs.index.IndexEngine.get_loc\u001b[1;34m()\u001b[0m\n",
      "File \u001b[1;32mpandas\\_libs\\hashtable_class_helper.pxi:5198\u001b[0m, in \u001b[0;36mpandas._libs.hashtable.PyObjectHashTable.get_item\u001b[1;34m()\u001b[0m\n",
      "File \u001b[1;32mpandas\\_libs\\hashtable_class_helper.pxi:5206\u001b[0m, in \u001b[0;36mpandas._libs.hashtable.PyObjectHashTable.get_item\u001b[1;34m()\u001b[0m\n",
      "\u001b[1;31mKeyError\u001b[0m: 'kx'",
      "\nThe above exception was the direct cause of the following exception:\n",
      "\u001b[1;31mKeyError\u001b[0m                                  Traceback (most recent call last)",
      "Cell \u001b[1;32mIn[5], line 5\u001b[0m\n\u001b[0;32m      2\u001b[0m data_2D_fname \u001b[39m=\u001b[39m \u001b[39mf\u001b[39m\u001b[39m'\u001b[39m\u001b[39mbands_spin_2D_\u001b[39m\u001b[39m{\u001b[39;00mNk2D\u001b[39m}\u001b[39;00m\u001b[39mx\u001b[39m\u001b[39m{\u001b[39;00mNk2D\u001b[39m}\u001b[39;00m\u001b[39m'\u001b[39m\n\u001b[0;32m      3\u001b[0m model\u001b[39m.\u001b[39minterpolate_bands_and_spin(kpoint_matrix, kmesh_2D\u001b[39m=\u001b[39m\u001b[39mTrue\u001b[39;00m, kmesh_density\u001b[39m=\u001b[39mNk2D, kmesh_2D_limits\u001b[39m=\u001b[39m[\u001b[39m-\u001b[39m\u001b[39m0.5\u001b[39m, \u001b[39m0.5\u001b[39m], \\\n\u001b[0;32m      4\u001b[0m                                    save_bands_spin_texture\u001b[39m=\u001b[39m\u001b[39mTrue\u001b[39;00m, fout\u001b[39m=\u001b[39mdata_2D_fname, )\n\u001b[1;32m----> 5\u001b[0m model\u001b[39m.\u001b[39;49mplot2D_spin_texture(fin_2D\u001b[39m=\u001b[39;49mdata_2D_fname, fin_1D\u001b[39m=\u001b[39;49mfout_1D, fig_name\u001b[39m=\u001b[39;49m\u001b[39m\"\u001b[39;49m\u001b[39mspin_texture_2D_home_made.jpg\u001b[39;49m\u001b[39m\"\u001b[39;49m)\n",
      "File \u001b[1;32m~\\Documents\\PhD work\\Scripts\\spinWannier\\src\\spinWannier\\WannierTBmodel.py:568\u001b[0m, in \u001b[0;36mWannierTBmodel.plot2D_spin_texture\u001b[1;34m(self, fin_2D, fin_1D, fig_name, E_to_cut)\u001b[0m\n\u001b[0;32m    565\u001b[0m \u001b[39mif\u001b[39;00m E_to_cut \u001b[39mis\u001b[39;00m \u001b[39mNone\u001b[39;00m:\n\u001b[0;32m    566\u001b[0m     E_to_cut \u001b[39m=\u001b[39m E_to_cut_2D\n\u001b[1;32m--> 568\u001b[0m fermi_surface_spin_texture(\n\u001b[0;32m    569\u001b[0m     kpoints2D,\n\u001b[0;32m    570\u001b[0m     bands2D,\n\u001b[0;32m    571\u001b[0m     Sx2D,\n\u001b[0;32m    572\u001b[0m     Sy2D,\n\u001b[0;32m    573\u001b[0m     Sz2D,\n\u001b[0;32m    574\u001b[0m     E\u001b[39m=\u001b[39;49mE_to_cut_2D,\n\u001b[0;32m    575\u001b[0m     E_F\u001b[39m=\u001b[39;49mE_F,\n\u001b[0;32m    576\u001b[0m     E_thr\u001b[39m=\u001b[39;49mE_thr,\n\u001b[0;32m    577\u001b[0m     savefig\u001b[39m=\u001b[39;49m\u001b[39mTrue\u001b[39;49;00m,\n\u001b[0;32m    578\u001b[0m     fig_name\u001b[39m=\u001b[39;49mfig_name,\n\u001b[0;32m    579\u001b[0m     quiver_scale\u001b[39m=\u001b[39;49mquiver_scale,\n\u001b[0;32m    580\u001b[0m     scatter_for_quiver\u001b[39m=\u001b[39;49mscatter_for_quiver,\n\u001b[0;32m    581\u001b[0m     scatter_size_quiver\u001b[39m=\u001b[39;49mscatter_size_quiver,\n\u001b[0;32m    582\u001b[0m     scatter_size\u001b[39m=\u001b[39;49mscatter_size,\n\u001b[0;32m    583\u001b[0m     reduce_by_factor\u001b[39m=\u001b[39;49mreduce_by_factor,\n\u001b[0;32m    584\u001b[0m     kmesh_limits\u001b[39m=\u001b[39;49mkmesh_limits,\n\u001b[0;32m    585\u001b[0m     n_points_for_one_angstrom_radius\u001b[39m=\u001b[39;49mn_points_for_one_angstrom_radius,\n\u001b[0;32m    586\u001b[0m     contour_for_quiver\u001b[39m=\u001b[39;49mcontour_for_quiver,\n\u001b[0;32m    587\u001b[0m     arrow_head_width\u001b[39m=\u001b[39;49marrow_head_width,\n\u001b[0;32m    588\u001b[0m     arrow_linewidth\u001b[39m=\u001b[39;49marrow_linewidth,\n\u001b[0;32m    589\u001b[0m     contour_line_width\u001b[39m=\u001b[39;49mcontour_line_width,\n\u001b[0;32m    590\u001b[0m )\n",
      "File \u001b[1;32m~\\Documents\\PhD work\\Scripts\\spinWannier\\src\\spinWannier\\wannier_utils.py:1887\u001b[0m, in \u001b[0;36mfermi_surface_spin_texture\u001b[1;34m(kpoints2D, bands2D, Sx2D, Sy2D, Sz2D, ax, E, E_F, E_thr, fig_name, quiver_scale, scatter_for_quiver, scatter_size_quiver, scatter_size, reduce_by_factor, kmesh_limits, savefig, colorbar_Sx_lim, colorbar_Sy_lim, colorbar_Sz_lim, n_points_for_one_angstrom_radius, ylim_margin, contour_for_quiver, contour_line_width, arrow_linewidth, arrow_head_width, quiver_angles, quiver_scale_units, inset_with_units_of_arrows, color_middle)\u001b[0m\n\u001b[0;32m   1884\u001b[0m     df_filtered \u001b[39m=\u001b[39m pd\u001b[39m.\u001b[39mconcat([df_filtered, df_filtered_temp])\n\u001b[0;32m   1886\u001b[0m \u001b[39m# get the kx, ky, Sx, Sy, Sz values for the arrows\u001b[39;00m\n\u001b[1;32m-> 1887\u001b[0m kx_radial_filter \u001b[39m=\u001b[39m df_filtered[\u001b[39m\"\u001b[39;49m\u001b[39mkx\u001b[39;49m\u001b[39m\"\u001b[39;49m]\u001b[39m.\u001b[39mvalues\n\u001b[0;32m   1888\u001b[0m ky_radial_filter \u001b[39m=\u001b[39m df_filtered[\u001b[39m\"\u001b[39m\u001b[39mky\u001b[39m\u001b[39m\"\u001b[39m]\u001b[39m.\u001b[39mvalues\n\u001b[0;32m   1889\u001b[0m Sx_radial_filter \u001b[39m=\u001b[39m df_filtered[\u001b[39m\"\u001b[39m\u001b[39mSx\u001b[39m\u001b[39m\"\u001b[39m]\u001b[39m.\u001b[39mvalues\n",
      "File \u001b[1;32mc:\\Python310\\lib\\site-packages\\pandas\\core\\frame.py:3505\u001b[0m, in \u001b[0;36mDataFrame.__getitem__\u001b[1;34m(self, key)\u001b[0m\n\u001b[0;32m   3503\u001b[0m \u001b[39mif\u001b[39;00m \u001b[39mself\u001b[39m\u001b[39m.\u001b[39mcolumns\u001b[39m.\u001b[39mnlevels \u001b[39m>\u001b[39m \u001b[39m1\u001b[39m:\n\u001b[0;32m   3504\u001b[0m     \u001b[39mreturn\u001b[39;00m \u001b[39mself\u001b[39m\u001b[39m.\u001b[39m_getitem_multilevel(key)\n\u001b[1;32m-> 3505\u001b[0m indexer \u001b[39m=\u001b[39m \u001b[39mself\u001b[39;49m\u001b[39m.\u001b[39;49mcolumns\u001b[39m.\u001b[39;49mget_loc(key)\n\u001b[0;32m   3506\u001b[0m \u001b[39mif\u001b[39;00m is_integer(indexer):\n\u001b[0;32m   3507\u001b[0m     indexer \u001b[39m=\u001b[39m [indexer]\n",
      "File \u001b[1;32mc:\\Python310\\lib\\site-packages\\pandas\\core\\indexes\\base.py:3631\u001b[0m, in \u001b[0;36mIndex.get_loc\u001b[1;34m(self, key, method, tolerance)\u001b[0m\n\u001b[0;32m   3629\u001b[0m     \u001b[39mreturn\u001b[39;00m \u001b[39mself\u001b[39m\u001b[39m.\u001b[39m_engine\u001b[39m.\u001b[39mget_loc(casted_key)\n\u001b[0;32m   3630\u001b[0m \u001b[39mexcept\u001b[39;00m \u001b[39mKeyError\u001b[39;00m \u001b[39mas\u001b[39;00m err:\n\u001b[1;32m-> 3631\u001b[0m     \u001b[39mraise\u001b[39;00m \u001b[39mKeyError\u001b[39;00m(key) \u001b[39mfrom\u001b[39;00m \u001b[39merr\u001b[39;00m\n\u001b[0;32m   3632\u001b[0m \u001b[39mexcept\u001b[39;00m \u001b[39mTypeError\u001b[39;00m:\n\u001b[0;32m   3633\u001b[0m     \u001b[39m# If we have a listlike key, _check_indexing_error will raise\u001b[39;00m\n\u001b[0;32m   3634\u001b[0m     \u001b[39m#  InvalidIndexError. Otherwise we fall through and re-raise\u001b[39;00m\n\u001b[0;32m   3635\u001b[0m     \u001b[39m#  the TypeError.\u001b[39;00m\n\u001b[0;32m   3636\u001b[0m     \u001b[39mself\u001b[39m\u001b[39m.\u001b[39m_check_indexing_error(key)\n",
      "\u001b[1;31mKeyError\u001b[0m: 'kx'"
     ]
    }
   ],
   "source": [
    "Nk2D = 6\n",
    "data_2D_fname = f'bands_spin_2D_{Nk2D}x{Nk2D}'\n",
    "model.interpolate_bands_and_spin(kpoint_matrix, kmesh_2D=True, kmesh_density=Nk2D, kmesh_2D_limits=[-0.5, 0.5], \\\n",
    "                                   save_bands_spin_texture=True, fout=data_2D_fname, )\n",
    "model.plot2D_spin_texture(fin_2D=data_2D_fname, fin_1D=fout_1D, fig_name=\"spin_texture_2D_home_made.jpg\")"
   ]
  },
  {
   "cell_type": "markdown",
   "metadata": {},
   "source": [
    "## Wannier quality"
   ]
  },
  {
   "cell_type": "code",
   "execution_count": null,
   "metadata": {},
   "outputs": [],
   "source": [
    "yaxis_lim = [-6.5, 7.5]\n",
    "\n",
    "model.wannier_quality(yaxis_lim=yaxis_lim)"
   ]
  }
 ],
 "metadata": {
  "kernelspec": {
   "display_name": "Python 3",
   "language": "python",
   "name": "python3"
  },
  "language_info": {
   "codemirror_mode": {
    "name": "ipython",
    "version": 3
   },
   "file_extension": ".py",
   "mimetype": "text/x-python",
   "name": "python",
   "nbconvert_exporter": "python",
   "pygments_lexer": "ipython3",
   "version": "3.10.0"
  },
  "orig_nbformat": 4
 },
 "nbformat": 4,
 "nbformat_minor": 2
}
