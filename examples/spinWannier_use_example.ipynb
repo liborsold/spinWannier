{
 "cells": [
  {
   "cell_type": "code",
   "execution_count": 1,
   "metadata": {},
   "outputs": [],
   "source": [
    "from spinWannier.WannierTBmodel import WannierTBmodel"
   ]
  },
  {
   "cell_type": "code",
   "execution_count": 2,
   "metadata": {},
   "outputs": [
    {
     "name": "stdout",
     "output_type": "stream",
     "text": [
      "CrSTe/2_wannier/u_dict.pickle written!\n",
      "Umnk keys len 625\n",
      "CrSTe/2_wannier/u_dis_dict.pickle written!\n",
      "Umnk keys len 625\n"
     ]
    }
   ],
   "source": [
    "    # directories\n",
    "model_folder='CrSTe'\n",
    "\n",
    "sc_dir=f'{model_folder}/0_self-consistent'\n",
    "nsc_dir=f'{model_folder}/1_non-self-consistent'\n",
    "wann_dir=f'{model_folder}/2_wannier'\n",
    "bands_dir=f'{model_folder}/1_band_structure'\n",
    "tb_model_dir=f'{model_folder}/2_wannier/tb_model_wann90'\n",
    "\n",
    "discard_first_bands = 10\n",
    "\n",
    "# Create a WannierTBmodel object, load the model\n",
    "model = WannierTBmodel(sc_dir=sc_dir, nsc_dir=nsc_dir, wann_dir=wann_dir, bands_dir=bands_dir, tb_model_dir=tb_model_dir, \\\n",
    "                       discard_first_bands=discard_first_bands)"
   ]
  },
  {
   "cell_type": "markdown",
   "metadata": {},
   "source": [
    "## 1D spin-colored band structure"
   ]
  },
  {
   "cell_type": "code",
   "execution_count": 3,
   "metadata": {},
   "outputs": [],
   "source": [
    "# 1D interpolation and plotting\n",
    "kpoint_matrix = [\n",
    "                [(0.333333,  0.333333,  0.000000),    (0.00,  0.00,  0.00)],\n",
    "                [(0.00,  0.00,  0.00),    (0.50, 0.00,  0.00)],\n",
    "                [(0.50, 0.00,  0.00),    (0.333333,  0.333333,  0.000000)]\n",
    "                ]\n",
    "kpath_ticks = ['K', 'G', 'M', 'K']\n",
    "\n",
    "model.interpolate_bands_and_spin(kpoint_matrix, kpath_ticks, kmesh_2D=False, kmesh_density=201, \\\n",
    "                                 kmesh_2D_limits=[-0.5, 0.5], save_bands_spin_texture=True)\n",
    "model.plot1D_bands(fout='spin_texture_1D_home_made.jpg', yaxis_lim=[-6.6, 7.5])\n",
    "\n",
    "# 2D interpolation and plotting\n",
    "# model.interpolate_bands_and_spin(kmesh_2D=True, kmesh_density=51, kmesh_2D_limits=[-0.5, 0.5], \\\n",
    "#                                    save_bands_spin_texture=True)\n",
    "# model.plot2D_spin_texture(fig_name=\"spin_texture_2D_home_made.jpg\")\n"
   ]
  },
  {
   "cell_type": "markdown",
   "metadata": {},
   "source": [
    "## Wannier quality"
   ]
  },
  {
   "cell_type": "code",
   "execution_count": 4,
   "metadata": {},
   "outputs": [
    {
     "name": "stdout",
     "output_type": "stream",
     "text": [
      "len kpoints 153\n",
      "len H_k_W 150\n",
      "150\n",
      "51\n",
      "50 [-5.04113436 -4.55607804 -3.1953106  -3.15286768 -3.015662   -2.12021711\n",
      " -2.05493123 -2.01977215 -1.68046711 -1.62982158 -0.60794126  1.50545636\n",
      "  1.65937302  1.77193071  2.22701642  2.68081032  2.72067464  2.91337885\n",
      "  2.98309923  3.50290376  4.19823177  4.42202175]\n",
      "51 [-5.04113436 -4.55607804 -3.1953106  -3.15286768 -3.015662   -2.12021711\n",
      " -2.05493123 -2.01977215 -1.68046711 -1.62982158 -0.60794126  1.50545636\n",
      "  1.65937302  1.77193071  2.22701642  2.68081032  2.72067464  2.91337885\n",
      "  2.98309923  3.50290376  4.19823177  4.42202175]\n",
      "150\n",
      "51\n",
      "150\n",
      "51\n",
      "150\n",
      "51\n"
     ]
    },
    {
     "name": "stderr",
     "output_type": "stream",
     "text": [
      "C:\\Users\\lv268562\\Documents\\PhD work\\Scripts\\spinWannier\\src\\spinWannier\\wannier_quality_utils.py:98: ComplexWarning: Casting complex values to real discards the imaginary part\n",
      "  data_duplicates[:NK, :] = data[:NK, :]\n",
      "C:\\Users\\lv268562\\Documents\\PhD work\\Scripts\\spinWannier\\src\\spinWannier\\wannier_quality_utils.py:100: ComplexWarning: Casting complex values to real discards the imaginary part\n",
      "  data_duplicates[i*NK, :] = data[i*(NK-1), :]\n",
      "C:\\Users\\lv268562\\Documents\\PhD work\\Scripts\\spinWannier\\src\\spinWannier\\wannier_quality_utils.py:101: ComplexWarning: Casting complex values to real discards the imaginary part\n",
      "  data_duplicates[i*NK+1:i*NK+1+NK, :] = data[1+i*(NK-1):1+i*(NK-1)+NK, :]\n",
      "C:\\Users\\lv268562\\Documents\\PhD work\\Scripts\\spinWannier\\src\\spinWannier\\wannier_quality_utils.py:104: ComplexWarning: Casting complex values to real discards the imaginary part\n",
      "  data_duplicates[i*NK, :] = data[i*(NK-1), :]\n",
      "C:\\Users\\lv268562\\Documents\\PhD work\\Scripts\\spinWannier\\src\\spinWannier\\wannier_quality_utils.py:105: ComplexWarning: Casting complex values to real discards the imaginary part\n",
      "  data_duplicates[i*NK+1:i*NK+1+NK-2, :] = data[1+i*(NK-1):1+i*(NK-1)+NK, :]\n",
      "C:\\Users\\lv268562\\Documents\\PhD work\\Scripts\\spinWannier\\src\\spinWannier\\wannier_quality_utils.py:106: ComplexWarning: Casting complex values to real discards the imaginary part\n",
      "  data_duplicates[-1, :] = data[0, :]\n"
     ]
    },
    {
     "name": "stdout",
     "output_type": "stream",
     "text": [
      "50 [[ 3.56621235e-05 -7.21339128e-05  9.97547736e-01]\n",
      " [-3.01527383e-05  6.25298210e-05 -9.94669214e-01]\n",
      " [ 6.26603713e-07 -4.18097131e-06  9.99809441e-01]\n",
      " [-1.75344326e-05  6.87346182e-06  9.97245507e-01]\n",
      " [ 2.27183355e-05 -2.10129541e-05  9.87099339e-01]\n",
      " [-4.21091316e-05  2.17933228e-05 -6.50557104e-01]\n",
      " [-4.49394127e-05  2.36542567e-05  9.49455548e-02]\n",
      " [ 6.83977129e-05 -3.08969269e-05  9.92139558e-01]\n",
      " [-3.59301757e-05  1.86191595e-05 -9.97374505e-01]\n",
      " [ 5.40259991e-05 -3.15209477e-05 -9.97282880e-01]\n",
      " [ 7.14396941e-06  3.53856224e-06  9.88327610e-01]\n",
      " [ 5.64886811e-06 -1.64104761e-06  9.88876693e-01]\n",
      " [ 4.30809241e-05 -1.09034913e-05 -9.80677623e-01]\n",
      " [-4.46555411e-05  7.68488468e-06  9.98818337e-01]\n",
      " [-6.99060156e-06  3.15778651e-06 -9.99239941e-01]\n",
      " [-5.22935554e-05  3.34821001e-05 -9.98152334e-01]\n",
      " [ 2.15521319e-05 -1.01389556e-05 -9.94124745e-01]\n",
      " [ 1.10471210e-05 -1.11786988e-05  8.90944960e-01]\n",
      " [-3.42617851e-05 -5.02757100e-05 -8.25626071e-01]\n",
      " [ 6.79392027e-06 -6.45242332e-06  9.99023019e-01]\n",
      " [ 1.49946236e-06  2.30185256e-05 -9.87383538e-01]\n",
      " [ 7.30518142e-06 -8.94894702e-07 -9.99903446e-01]]\n",
      "51 [[ 3.56621235e-05 -7.21339128e-05  9.97547736e-01]\n",
      " [-3.01527383e-05  6.25298210e-05 -9.94669214e-01]\n",
      " [ 6.26603713e-07 -4.18097131e-06  9.99809441e-01]\n",
      " [-1.75344326e-05  6.87346182e-06  9.97245507e-01]\n",
      " [ 2.27183355e-05 -2.10129541e-05  9.87099339e-01]\n",
      " [-4.21091316e-05  2.17933228e-05 -6.50557104e-01]\n",
      " [-4.49394127e-05  2.36542567e-05  9.49455548e-02]\n",
      " [ 6.83977129e-05 -3.08969269e-05  9.92139558e-01]\n",
      " [-3.59301757e-05  1.86191595e-05 -9.97374505e-01]\n",
      " [ 5.40259991e-05 -3.15209477e-05 -9.97282880e-01]\n",
      " [ 7.14396941e-06  3.53856224e-06  9.88327610e-01]\n",
      " [ 5.64886811e-06 -1.64104761e-06  9.88876693e-01]\n",
      " [ 4.30809241e-05 -1.09034913e-05 -9.80677623e-01]\n",
      " [-4.46555411e-05  7.68488468e-06  9.98818337e-01]\n",
      " [-6.99060156e-06  3.15778651e-06 -9.99239941e-01]\n",
      " [-5.22935554e-05  3.34821001e-05 -9.98152334e-01]\n",
      " [ 2.15521319e-05 -1.01389556e-05 -9.94124745e-01]\n",
      " [ 1.10471210e-05 -1.11786988e-05  8.90944960e-01]\n",
      " [-3.42617851e-05 -5.02757100e-05 -8.25626071e-01]\n",
      " [ 6.79392027e-06 -6.45242332e-06  9.99023019e-01]\n",
      " [ 1.49946236e-06  2.30185256e-05 -9.87383538e-01]\n",
      " [ 7.30518142e-06 -8.94894702e-07 -9.99903446e-01]]\n",
      "!!!!!!!!!!!Fermi_nsc_wann -3.026462949999999\n",
      "ERROR band structure printed\n",
      "\n",
      "--------------------\n",
      "\n",
      "=======================\n",
      "Error matrix shape: (3366, 5)\n",
      "S_abs shape (3366,)\n",
      "S_abs_E shape (3366, 2)\n"
     ]
    }
   ],
   "source": [
    "yaxis_lim = [-6.5, 7.5]\n",
    "\n",
    "model.wannier_quality(yaxis_lim=yaxis_lim)"
   ]
  },
  {
   "cell_type": "code",
   "execution_count": null,
   "metadata": {},
   "outputs": [],
   "source": []
  }
 ],
 "metadata": {
  "kernelspec": {
   "display_name": "Python 3",
   "language": "python",
   "name": "python3"
  },
  "language_info": {
   "codemirror_mode": {
    "name": "ipython",
    "version": 3
   },
   "file_extension": ".py",
   "mimetype": "text/x-python",
   "name": "python",
   "nbconvert_exporter": "python",
   "pygments_lexer": "ipython3",
   "version": "3.10.0"
  },
  "orig_nbformat": 4
 },
 "nbformat": 4,
 "nbformat_minor": 2
}
