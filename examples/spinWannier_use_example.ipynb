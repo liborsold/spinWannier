{
 "cells": [
  {
   "cell_type": "code",
   "execution_count": null,
   "metadata": {},
   "outputs": [],
   "source": [
    "from spinWannier.WannierTBmodel import WannierTBmodel"
   ]
  },
  {
   "cell_type": "markdown",
   "metadata": {},
   "source": [
    "## 1D spin-colored band structure"
   ]
  },
  {
   "cell_type": "code",
   "execution_count": null,
   "metadata": {},
   "outputs": [],
   "source": [
    "model_dir='./wannier_files_CrTe2/'\n",
    "\n",
    "# Create a WannierTBmodel object, load the model\n",
    "model = WannierTBmodel(model_dir=model_dir)\n",
    "\n",
    "# 1D interpolation and plotting\n",
    "kpoint_matrix = [\n",
    "                [(0.333333,  0.333333,  0.000000),    (0.00,  0.00,  0.00)],\n",
    "                [(0.00,  0.00,  0.00),    (0.50, 0.00,  0.00)],\n",
    "                [(0.50, 0.00,  0.00),    (0.333333,  0.333333,  0.000000)]\n",
    "                ]\n",
    "kpath_ticks = ['K', 'G', 'M', 'K']\n",
    "\n",
    "model.interpolate_bands_and_spin(kpoint_matrix, kpath_ticks, kmesh_2D=False, kmesh_density=201, \\\n",
    "                                 kmesh_2D_limits=[-0.5, 0.5], save_bands_spin_texture=True)\n",
    "model.plot1D_bands(fout='spin_texture_1D_home_made.jpg', yaxis_lim=[-8, 6])\n",
    "\n",
    "# 2D interpolation and plotting\n",
    "# model.interpolate_bands_and_spin(kmesh_2D=True, kmesh_density=51, kmesh_2D_limits=[-0.5, 0.5], \\\n",
    "#                                    save_bands_spin_texture=True)\n",
    "# model.plot2D_spin_texture(fig_name=\"spin_texture_2D_home_made.jpg\")\n"
   ]
  },
  {
   "cell_type": "markdown",
   "metadata": {},
   "source": [
    "## Wannier quality"
   ]
  },
  {
   "cell_type": "code",
   "execution_count": null,
   "metadata": {},
   "outputs": [],
   "source": [
    "model_dir='./CrSTe/2_wannier/'\n",
    "\n",
    "# Create a WannierTBmodel object, load the model\n",
    "model = WannierTBmodel(model_dir=model_dir)\n",
    "\n",
    "# --- WANNIER QUALITY ---\n",
    "    # parameters of the band-structure calculation and the number of discarded bands during Wannierization\n",
    "kpoint_matrix = [\n",
    "    [(0.3333333333,  0.3333333333,  0.000000),    (0.00,  0.00,  0.00)],\n",
    "    [(0.00,  0.00,  0.00),    (0.50, 0.00,  0.00)],\n",
    "    [(0.50, 0.00,  0.00),    (0.3333333333,  0.3333333333,  0.000000)]\n",
    "]\n",
    "NK = 51\n",
    "num_wann = 22\n",
    "discard_first_bands = 10\n",
    "\n",
    "    # directories\n",
    "model_folder='CrSTe'\n",
    "\n",
    "sc_dir=f'{model_folder}/0_self-consistent'\n",
    "nsc_dir=f'{model_folder}/1_non-self-consistent'\n",
    "wann_dir=f'{model_folder}/2_wannier'\n",
    "bands_dir=f'{model_folder}/1_band_structure'\n",
    "tb_model_dir=f'{model_folder}/2_wannier/tb_model_wann90'\n",
    "\n",
    "model.wannier_quality(kpoint_matrix, NK, num_wann, discard_first_bands, sc_dir=sc_dir, nsc_dir=nsc_dir, \\\n",
    "                      wann_dir=wann_dir, bands_dir=bands_dir, tb_model_dir=tb_model_dir, \\\n",
    "                        band_for_Fermi_correction=None, kpoint_for_Fermi_correction='0.0000000E+00  0.0000000E+00  0.0000000E+00')"
   ]
  }
 ],
 "metadata": {
  "kernelspec": {
   "display_name": "Python 3",
   "language": "python",
   "name": "python3"
  },
  "language_info": {
   "codemirror_mode": {
    "name": "ipython",
    "version": 3
   },
   "file_extension": ".py",
   "mimetype": "text/x-python",
   "name": "python",
   "nbconvert_exporter": "python",
   "pygments_lexer": "ipython3",
   "version": "3.10.0"
  },
  "orig_nbformat": 4
 },
 "nbformat": 4,
 "nbformat_minor": 2
}
