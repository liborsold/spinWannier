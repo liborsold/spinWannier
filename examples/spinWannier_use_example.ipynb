{
 "cells": [
  {
   "cell_type": "code",
   "execution_count": null,
   "metadata": {},
   "outputs": [],
   "source": [
    "from spinWannier.WannierTBmodel import WannierTBmodel\n",
    "\n",
    "model_files_folder='./wannier_files_CrTe2/'\n",
    "\n",
    "# Create a WannierTBmodel object, load the model\n",
    "model = WannierTBmodel(model_dir=model_files_folder)\n",
    "\n",
    "# 1D interpolation and plotting\n",
    "# model.interpolate_bands_and_spin(kmesh_2D=False, kmesh_density=201, kmesh_2D_limits=[-0.5, 0.5], \\\n",
    "#                                    save_bands_spin_texture=True)\n",
    "# model.plot1D_bands(fout='spin_texture_1D_home_made.jpg', yaxis_lim=[-8, 6])\n",
    "\n",
    "# 2D interpolation and plotting\n",
    "model.interpolate_bands_and_spin(kmesh_2D=True, kmesh_density=51, kmesh_2D_limits=[-0.5, 0.5], \\\n",
    "                                   save_bands_spin_texture=True)\n",
    "model.plot2D_spin_texture()\n"
   ]
  }
 ],
 "metadata": {
  "kernelspec": {
   "display_name": "Python 3",
   "language": "python",
   "name": "python3"
  },
  "language_info": {
   "codemirror_mode": {
    "name": "ipython",
    "version": 3
   },
   "file_extension": ".py",
   "mimetype": "text/x-python",
   "name": "python",
   "nbconvert_exporter": "python",
   "pygments_lexer": "ipython3",
   "version": "3.10.0"
  },
  "orig_nbformat": 4
 },
 "nbformat": 4,
 "nbformat_minor": 2
}
