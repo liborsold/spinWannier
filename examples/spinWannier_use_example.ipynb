{
 "cells": [
  {
   "cell_type": "code",
   "execution_count": 1,
   "metadata": {},
   "outputs": [],
   "source": [
    "from spinWannier.WannierTBmodel import WannierTBmodel"
   ]
  },
  {
   "cell_type": "code",
   "execution_count": 2,
   "metadata": {},
   "outputs": [
    {
     "name": "stdout",
     "output_type": "stream",
     "text": [
      "CrSTe/2_wannier/u_dict.pickle written!\n",
      "Umnk keys len 625\n",
      "CrSTe/2_wannier/u_dis_dict.pickle written!\n",
      "Umnk keys len 625\n"
     ]
    }
   ],
   "source": [
    "    # directories\n",
    "model_folder='CrSTe'\n",
    "\n",
    "sc_dir=f'{model_folder}/0_self-consistent'\n",
    "nsc_dir=f'{model_folder}/1_non-self-consistent'\n",
    "wann_dir=f'{model_folder}/2_wannier'\n",
    "bands_dir=f'{model_folder}/1_band_structure'\n",
    "tb_model_dir=f'{model_folder}/2_wannier/tb_model_wann90'\n",
    "\n",
    "# Create a WannierTBmodel object, load the model\n",
    "model = WannierTBmodel(sc_dir=sc_dir, nsc_dir=nsc_dir, wann_dir=wann_dir, bands_dir=bands_dir, tb_model_dir=tb_model_dir)"
   ]
  },
  {
   "cell_type": "markdown",
   "metadata": {},
   "source": [
    "## 1D spin-colored band structure"
   ]
  },
  {
   "cell_type": "code",
   "execution_count": 3,
   "metadata": {},
   "outputs": [],
   "source": [
    "kpoint_matrix = [\n",
    "                [(0.333333,  0.333333,  0.000000),    (0.00,  0.00,  0.00)],\n",
    "                [(0.00,  0.00,  0.00),    (0.50, 0.00,  0.00)],\n",
    "                [(0.50, 0.00,  0.00),    (0.333333,  0.333333,  0.000000)]\n",
    "                ]"
   ]
  },
  {
   "cell_type": "code",
   "execution_count": 4,
   "metadata": {},
   "outputs": [
    {
     "name": "stdout",
     "output_type": "stream",
     "text": [
      "The file bands_spin_21.pickle already exists in f'CrSTe/2_wannier/tb_model_wann90/'.\n",
      "Skipping the calculation, loading the data instead!\n",
      "\n"
     ]
    },
    {
     "name": "stderr",
     "output_type": "stream",
     "text": [
      "c:\\Python310\\lib\\site-packages\\matplotlib\\axes\\_axes.py:4411: ComplexWarning: Casting complex values to real discards the imaginary part\n",
      "  c = np.asanyarray(c, dtype=float)\n"
     ]
    }
   ],
   "source": [
    "kpath_ticks = ['K', 'G', 'M', 'K']\n",
    "Nk = 101\n",
    "fout_1D = f'bands_spin_{Nk}'\n",
    "\n",
    "model.interpolate_bands_and_spin(kpoint_matrix, kpath_ticks=kpath_ticks, kmesh_2D=False, kmesh_density=Nk, \\\n",
    "                                 kmesh_2D_limits=[-0.5, 0.5], save_bands_spin_texture=True, fout=fout_1D)\n",
    "model.plot1D_bands(fout='spin_texture_1D_home_made.jpg', yaxis_lim=[-6.6, 7.5])\n"
   ]
  },
  {
   "cell_type": "markdown",
   "metadata": {},
   "source": [
    "# 2D spin textures"
   ]
  },
  {
   "cell_type": "code",
   "execution_count": 5,
   "metadata": {},
   "outputs": [
    {
     "name": "stdout",
     "output_type": "stream",
     "text": [
      "The file bands_spin_2D_51x51.pickle already exists in f'CrSTe/2_wannier/tb_model_wann90/'.\n",
      "Skipping the calculation, loading the data instead!\n",
      "\n",
      "average Sz 0.4851586580756155\n"
     ]
    },
    {
     "name": "stderr",
     "output_type": "stream",
     "text": [
      "C:\\Users\\lv268562\\Documents\\PhD work\\Scripts\\spinWannier\\src\\spinWannier\\wannier_utils.py:1143: SettingWithCopyWarning: \n",
      "A value is trying to be set on a copy of a slice from a DataFrame.\n",
      "Try using .loc[row_indexer,col_indexer] = value instead\n",
      "\n",
      "See the caveats in the documentation: https://pandas.pydata.org/pandas-docs/stable/user_guide/indexing.html#returning-a-view-versus-a-copy\n",
      "  df_temp['closest_anchor'] = df_temp['phi'].apply(lambda x: phi_anchors[np.argmin(np.abs(phi_anchors - x))])\n",
      "C:\\Users\\lv268562\\Documents\\PhD work\\Scripts\\spinWannier\\src\\spinWannier\\wannier_utils.py:1147: SettingWithCopyWarning: \n",
      "A value is trying to be set on a copy of a slice from a DataFrame.\n",
      "Try using .loc[row_indexer,col_indexer] = value instead\n",
      "\n",
      "See the caveats in the documentation: https://pandas.pydata.org/pandas-docs/stable/user_guide/indexing.html#returning-a-view-versus-a-copy\n",
      "  df_temp.loc[:,'anchor_difference'] = (df_temp.loc[:,'phi'] - df_temp.loc[:,'closest_anchor']).abs()\n",
      "C:\\Users\\lv268562\\Documents\\PhD work\\Scripts\\spinWannier\\src\\spinWannier\\wannier_utils.py:1143: SettingWithCopyWarning: \n",
      "A value is trying to be set on a copy of a slice from a DataFrame.\n",
      "Try using .loc[row_indexer,col_indexer] = value instead\n",
      "\n",
      "See the caveats in the documentation: https://pandas.pydata.org/pandas-docs/stable/user_guide/indexing.html#returning-a-view-versus-a-copy\n",
      "  df_temp['closest_anchor'] = df_temp['phi'].apply(lambda x: phi_anchors[np.argmin(np.abs(phi_anchors - x))])\n",
      "C:\\Users\\lv268562\\Documents\\PhD work\\Scripts\\spinWannier\\src\\spinWannier\\wannier_utils.py:1147: SettingWithCopyWarning: \n",
      "A value is trying to be set on a copy of a slice from a DataFrame.\n",
      "Try using .loc[row_indexer,col_indexer] = value instead\n",
      "\n",
      "See the caveats in the documentation: https://pandas.pydata.org/pandas-docs/stable/user_guide/indexing.html#returning-a-view-versus-a-copy\n",
      "  df_temp.loc[:,'anchor_difference'] = (df_temp.loc[:,'phi'] - df_temp.loc[:,'closest_anchor']).abs()\n",
      "C:\\Users\\lv268562\\Documents\\PhD work\\Scripts\\spinWannier\\src\\spinWannier\\wannier_utils.py:1143: SettingWithCopyWarning: \n",
      "A value is trying to be set on a copy of a slice from a DataFrame.\n",
      "Try using .loc[row_indexer,col_indexer] = value instead\n",
      "\n",
      "See the caveats in the documentation: https://pandas.pydata.org/pandas-docs/stable/user_guide/indexing.html#returning-a-view-versus-a-copy\n",
      "  df_temp['closest_anchor'] = df_temp['phi'].apply(lambda x: phi_anchors[np.argmin(np.abs(phi_anchors - x))])\n",
      "C:\\Users\\lv268562\\Documents\\PhD work\\Scripts\\spinWannier\\src\\spinWannier\\wannier_utils.py:1147: SettingWithCopyWarning: \n",
      "A value is trying to be set on a copy of a slice from a DataFrame.\n",
      "Try using .loc[row_indexer,col_indexer] = value instead\n",
      "\n",
      "See the caveats in the documentation: https://pandas.pydata.org/pandas-docs/stable/user_guide/indexing.html#returning-a-view-versus-a-copy\n",
      "  df_temp.loc[:,'anchor_difference'] = (df_temp.loc[:,'phi'] - df_temp.loc[:,'closest_anchor']).abs()\n",
      "C:\\Users\\lv268562\\Documents\\PhD work\\Scripts\\spinWannier\\src\\spinWannier\\wannier_utils.py:1143: SettingWithCopyWarning: \n",
      "A value is trying to be set on a copy of a slice from a DataFrame.\n",
      "Try using .loc[row_indexer,col_indexer] = value instead\n",
      "\n",
      "See the caveats in the documentation: https://pandas.pydata.org/pandas-docs/stable/user_guide/indexing.html#returning-a-view-versus-a-copy\n",
      "  df_temp['closest_anchor'] = df_temp['phi'].apply(lambda x: phi_anchors[np.argmin(np.abs(phi_anchors - x))])\n",
      "C:\\Users\\lv268562\\Documents\\PhD work\\Scripts\\spinWannier\\src\\spinWannier\\wannier_utils.py:1147: SettingWithCopyWarning: \n",
      "A value is trying to be set on a copy of a slice from a DataFrame.\n",
      "Try using .loc[row_indexer,col_indexer] = value instead\n",
      "\n",
      "See the caveats in the documentation: https://pandas.pydata.org/pandas-docs/stable/user_guide/indexing.html#returning-a-view-versus-a-copy\n",
      "  df_temp.loc[:,'anchor_difference'] = (df_temp.loc[:,'phi'] - df_temp.loc[:,'closest_anchor']).abs()\n",
      "C:\\Users\\lv268562\\Documents\\PhD work\\Scripts\\spinWannier\\src\\spinWannier\\wannier_utils.py:1143: SettingWithCopyWarning: \n",
      "A value is trying to be set on a copy of a slice from a DataFrame.\n",
      "Try using .loc[row_indexer,col_indexer] = value instead\n",
      "\n",
      "See the caveats in the documentation: https://pandas.pydata.org/pandas-docs/stable/user_guide/indexing.html#returning-a-view-versus-a-copy\n",
      "  df_temp['closest_anchor'] = df_temp['phi'].apply(lambda x: phi_anchors[np.argmin(np.abs(phi_anchors - x))])\n",
      "C:\\Users\\lv268562\\Documents\\PhD work\\Scripts\\spinWannier\\src\\spinWannier\\wannier_utils.py:1147: SettingWithCopyWarning: \n",
      "A value is trying to be set on a copy of a slice from a DataFrame.\n",
      "Try using .loc[row_indexer,col_indexer] = value instead\n",
      "\n",
      "See the caveats in the documentation: https://pandas.pydata.org/pandas-docs/stable/user_guide/indexing.html#returning-a-view-versus-a-copy\n",
      "  df_temp.loc[:,'anchor_difference'] = (df_temp.loc[:,'phi'] - df_temp.loc[:,'closest_anchor']).abs()\n"
     ]
    }
   ],
   "source": [
    "Nk2D = 51\n",
    "data_2D_fname = f'bands_spin_2D_{Nk2D}x{Nk2D}'\n",
    "model.interpolate_bands_and_spin(kpoint_matrix, kmesh_2D=True, kmesh_density=Nk2D, kmesh_2D_limits=[-0.5, 0.5], \\\n",
    "                                   save_bands_spin_texture=True, fout=data_2D_fname)\n",
    "model.plot2D_spin_texture(fin_2D=data_2D_fname, fin_1D=fout_1D, fig_name=\"spin_texture_2D_home_made.jpg\")"
   ]
  },
  {
   "cell_type": "markdown",
   "metadata": {},
   "source": [
    "## Wannier quality"
   ]
  },
  {
   "cell_type": "code",
   "execution_count": 6,
   "metadata": {},
   "outputs": [
    {
     "name": "stderr",
     "output_type": "stream",
     "text": [
      "C:\\Users\\lv268562\\Documents\\PhD work\\Scripts\\spinWannier\\src\\spinWannier\\wannier_quality_utils.py:98: ComplexWarning: Casting complex values to real discards the imaginary part\n",
      "  data_duplicates[:NK, :] = data[:NK, :]\n",
      "C:\\Users\\lv268562\\Documents\\PhD work\\Scripts\\spinWannier\\src\\spinWannier\\wannier_quality_utils.py:100: ComplexWarning: Casting complex values to real discards the imaginary part\n",
      "  data_duplicates[i*NK, :] = data[i*(NK-1), :]\n",
      "C:\\Users\\lv268562\\Documents\\PhD work\\Scripts\\spinWannier\\src\\spinWannier\\wannier_quality_utils.py:101: ComplexWarning: Casting complex values to real discards the imaginary part\n",
      "  data_duplicates[i*NK+1:i*NK+1+NK, :] = data[1+i*(NK-1):1+i*(NK-1)+NK, :]\n",
      "C:\\Users\\lv268562\\Documents\\PhD work\\Scripts\\spinWannier\\src\\spinWannier\\wannier_quality_utils.py:104: ComplexWarning: Casting complex values to real discards the imaginary part\n",
      "  data_duplicates[i*NK, :] = data[i*(NK-1), :]\n",
      "C:\\Users\\lv268562\\Documents\\PhD work\\Scripts\\spinWannier\\src\\spinWannier\\wannier_quality_utils.py:105: ComplexWarning: Casting complex values to real discards the imaginary part\n",
      "  data_duplicates[i*NK+1:i*NK+1+NK-2, :] = data[1+i*(NK-1):1+i*(NK-1)+NK, :]\n",
      "C:\\Users\\lv268562\\Documents\\PhD work\\Scripts\\spinWannier\\src\\spinWannier\\wannier_quality_utils.py:106: ComplexWarning: Casting complex values to real discards the imaginary part\n",
      "  data_duplicates[-1, :] = data[0, :]\n"
     ]
    },
    {
     "name": "stdout",
     "output_type": "stream",
     "text": [
      "ERROR band structure printed\n",
      "\n",
      "--------------------\n",
      "\n",
      "=======================\n",
      "Error matrix shape: (3366, 5)\n",
      "S_abs shape (3366,)\n",
      "S_abs_E shape (3366, 2)\n"
     ]
    }
   ],
   "source": [
    "yaxis_lim = [-6.5, 7.5]\n",
    "\n",
    "model.wannier_quality(yaxis_lim=yaxis_lim)"
   ]
  }
 ],
 "metadata": {
  "kernelspec": {
   "display_name": "Python 3",
   "language": "python",
   "name": "python3"
  },
  "language_info": {
   "codemirror_mode": {
    "name": "ipython",
    "version": 3
   },
   "file_extension": ".py",
   "mimetype": "text/x-python",
   "name": "python",
   "nbconvert_exporter": "python",
   "pygments_lexer": "ipython3",
   "version": "3.10.0"
  },
  "orig_nbformat": 4
 },
 "nbformat": 4,
 "nbformat_minor": 2
}
