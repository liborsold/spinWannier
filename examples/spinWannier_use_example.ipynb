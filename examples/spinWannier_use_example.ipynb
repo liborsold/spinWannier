{
 "cells": [
  {
   "cell_type": "code",
   "execution_count": 1,
   "metadata": {},
   "outputs": [],
   "source": [
    "from spinWannier.WannierTBmodel import WannierTBmodel"
   ]
  },
  {
   "cell_type": "markdown",
   "metadata": {},
   "source": [
    "## 1D spin-colored band structure"
   ]
  },
  {
   "cell_type": "code",
   "execution_count": 5,
   "metadata": {},
   "outputs": [
    {
     "name": "stdout",
     "output_type": "stream",
     "text": [
      "CrSTe/2_wannier/u_dict.pickle written!\n",
      "Umnk keys len 625\n",
      "CrSTe/2_wannier/u_dis_dict.pickle written!\n",
      "Umnk keys len 625\n",
      "CrSTe/2_wannier/tb_model_wann90/bands_spin.pickle\n"
     ]
    },
    {
     "name": "stderr",
     "output_type": "stream",
     "text": [
      "c:\\Python310\\lib\\site-packages\\matplotlib\\axes\\_axes.py:4411: ComplexWarning: Casting complex values to real discards the imaginary part\n",
      "  c = np.asanyarray(c, dtype=float)\n"
     ]
    }
   ],
   "source": [
    "    # directories\n",
    "model_folder='CrSTe'\n",
    "\n",
    "sc_dir=f'{model_folder}/0_self-consistent'\n",
    "nsc_dir=f'{model_folder}/1_non-self-consistent'\n",
    "wann_dir=f'{model_folder}/2_wannier'\n",
    "bands_dir=f'{model_folder}/1_band_structure'\n",
    "tb_model_dir=f'{model_folder}/2_wannier/tb_model_wann90'\n",
    "\n",
    "discard_first_bands = 10\n",
    "\n",
    "# Create a WannierTBmodel object, load the model\n",
    "model = WannierTBmodel(sc_dir=sc_dir, nsc_dir=nsc_dir, wann_dir=wann_dir, bands_dir=bands_dir, tb_model_dir=tb_model_dir, \\\n",
    "                       discard_first_bands=discard_first_bands)\n",
    "\n",
    "# 1D interpolation and plotting\n",
    "kpoint_matrix = [\n",
    "                [(0.333333,  0.333333,  0.000000),    (0.00,  0.00,  0.00)],\n",
    "                [(0.00,  0.00,  0.00),    (0.50, 0.00,  0.00)],\n",
    "                [(0.50, 0.00,  0.00),    (0.333333,  0.333333,  0.000000)]\n",
    "                ]\n",
    "kpath_ticks = ['K', 'G', 'M', 'K']\n",
    "\n",
    "model.interpolate_bands_and_spin(kpoint_matrix, kpath_ticks, kmesh_2D=False, kmesh_density=201, \\\n",
    "                                 kmesh_2D_limits=[-0.5, 0.5], save_bands_spin_texture=True)\n",
    "model.plot1D_bands(fout='spin_texture_1D_home_made.jpg', yaxis_lim=[-6.6, 7.5])\n",
    "\n",
    "# 2D interpolation and plotting\n",
    "# model.interpolate_bands_and_spin(kmesh_2D=True, kmesh_density=51, kmesh_2D_limits=[-0.5, 0.5], \\\n",
    "#                                    save_bands_spin_texture=True)\n",
    "# model.plot2D_spin_texture(fig_name=\"spin_texture_2D_home_made.jpg\")\n"
   ]
  },
  {
   "cell_type": "markdown",
   "metadata": {},
   "source": [
    "## Wannier quality"
   ]
  },
  {
   "cell_type": "code",
   "execution_count": 6,
   "metadata": {},
   "outputs": [
    {
     "ename": "TypeError",
     "evalue": "WannierTBmodel.__init__() got an unexpected keyword argument 'model_dir'",
     "output_type": "error",
     "traceback": [
      "\u001b[1;31m---------------------------------------------------------------------------\u001b[0m",
      "\u001b[1;31mTypeError\u001b[0m                                 Traceback (most recent call last)",
      "Cell \u001b[1;32mIn[6], line 4\u001b[0m\n\u001b[0;32m      1\u001b[0m model_dir\u001b[39m=\u001b[39m\u001b[39m'\u001b[39m\u001b[39m./CrSTe/2_wannier/\u001b[39m\u001b[39m'\u001b[39m\n\u001b[0;32m      3\u001b[0m \u001b[39m# Create a WannierTBmodel object, load the model\u001b[39;00m\n\u001b[1;32m----> 4\u001b[0m model \u001b[39m=\u001b[39m WannierTBmodel(model_dir\u001b[39m=\u001b[39;49mmodel_dir)\n\u001b[0;32m      6\u001b[0m \u001b[39m# --- WANNIER QUALITY ---\u001b[39;00m\n\u001b[0;32m      8\u001b[0m yaxis_lim \u001b[39m=\u001b[39m [\u001b[39m-\u001b[39m\u001b[39m6.5\u001b[39m, \u001b[39m7.5\u001b[39m]\n",
      "\u001b[1;31mTypeError\u001b[0m: WannierTBmodel.__init__() got an unexpected keyword argument 'model_dir'"
     ]
    }
   ],
   "source": [
    "\n",
    "# --- WANNIER QUALITY ---\n",
    "\n",
    "yaxis_lim = [-6.5, 7.5]\n",
    "\n",
    "    # parameters of the band-structure calculation and the number of discarded bands during Wannierization\n",
    "kpoint_matrix = [\n",
    "    [(0.3333333333,  0.3333333333,  0.000000),    (0.00,  0.00,  0.00)],\n",
    "    [(0.00,  0.00,  0.00),    (0.50, 0.00,  0.00)],\n",
    "    [(0.50, 0.00,  0.00),    (0.3333333333,  0.3333333333,  0.000000)]\n",
    "]\n",
    "kpath_ticks = ['K', 'G', 'M', 'K']\n",
    "NK = 51\n",
    "num_wann = 22\n",
    "\n",
    "# directories\n",
    "model.wannier_quality(kpoint_matrix, NK, kpath_ticks, num_wann, \\\n",
    "                        band_for_Fermi_correction=None, kpoint_for_Fermi_correction='0.0000000E+00  0.0000000E+00  0.0000000E+00', \\\n",
    "                        yaxis_lim=yaxis_lim)"
   ]
  },
  {
   "cell_type": "code",
   "execution_count": null,
   "metadata": {},
   "outputs": [],
   "source": []
  }
 ],
 "metadata": {
  "kernelspec": {
   "display_name": "Python 3",
   "language": "python",
   "name": "python3"
  },
  "language_info": {
   "codemirror_mode": {
    "name": "ipython",
    "version": 3
   },
   "file_extension": ".py",
   "mimetype": "text/x-python",
   "name": "python",
   "nbconvert_exporter": "python",
   "pygments_lexer": "ipython3",
   "version": "3.10.0"
  },
  "orig_nbformat": 4
 },
 "nbformat": 4,
 "nbformat_minor": 2
}
