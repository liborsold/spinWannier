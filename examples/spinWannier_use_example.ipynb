{
 "cells": [
  {
   "cell_type": "code",
   "execution_count": null,
   "metadata": {},
   "outputs": [],
   "source": [
    "from spinWannier.WannierTBmodel import WannierTBmodel"
   ]
  },
  {
   "cell_type": "code",
   "execution_count": null,
   "metadata": {},
   "outputs": [],
   "source": [
    "model_dir='./CrSTe/'\n",
    "\n",
    "# Create a WannierTBmodel object, load the model\n",
    "model = WannierTBmodel(model_dir=model_dir)\n",
    "\n",
    "# Calculate Wannier quality\n",
    "kpoint_matrix = [\n",
    "    [(0.00,  0.00,  0.00), (0.3333333333,  0.3333333333,  0.000000)],\n",
    "    [(0.3333333333,  0.3333333333,  0.000000),    (0.50, 0.00,  0.00)],\n",
    "    [(0.50, 0.00,  0.00),    (0.00,  0.00,  0.00)]\n",
    "]\n",
    "NK = 60\n",
    "num_wann = 48  # number of Wannier orbitals\n",
    "discard_first_bands = 6\n",
    "\n",
    "model.wannier_quality(kpoint_matrix, NK, num_wann, discard_first_bands=10, sc_dir='0_self-consistent', nsc_dir='1_non-self-consistent', wann_dir='2_wannier', \\\n",
    "                    bands_dir='1_band_structure', tb_model_dir='2_wannier/tb_model_wann90', \\\n",
    "                        band_for_Fermi_correction=None, kpoint_for_Fermi_correction='0.0000000E+00  0.0000000E+00  0.0000000E+00'):\n"
   ]
  },
  {
   "cell_type": "code",
   "execution_count": 1,
   "metadata": {},
   "outputs": [
    {
     "name": "stdout",
     "output_type": "stream",
     "text": [
      "./wannier_files_CrTe2/u_dict.pickle written!\n",
      "Umnk keys len 25\n",
      "./wannier_files_CrTe2/u_dis_dict.pickle written!\n",
      "Umnk keys len 25\n",
      "./wannier_files_CrTe2/tb_model_wann90/bands_spin.pickle\n"
     ]
    },
    {
     "name": "stderr",
     "output_type": "stream",
     "text": [
      "c:\\Python310\\lib\\site-packages\\matplotlib\\axes\\_axes.py:4411: ComplexWarning: Casting complex values to real discards the imaginary part\n",
      "  c = np.asanyarray(c, dtype=float)\n"
     ]
    }
   ],
   "source": [
    "model_dir='./wannier_files_CrTe2/'\n",
    "\n",
    "# Create a WannierTBmodel object, load the model\n",
    "model = WannierTBmodel(model_dir=model_dir)\n",
    "\n",
    "# 1D interpolation and plotting\n",
    "kpoint_matrix = [\n",
    "                [(0.333333,  0.333333,  0.000000),    (0.00,  0.00,  0.00)],\n",
    "                [(0.00,  0.00,  0.00),    (0.50, 0.00,  0.00)],\n",
    "                [(0.50, 0.00,  0.00),    (0.333333,  0.333333,  0.000000)]\n",
    "                ]\n",
    "kpath_ticks = ['K', 'G', 'M', 'K']\n",
    "\n",
    "model.interpolate_bands_and_spin(kpoint_matrix, kpath_ticks, kmesh_2D=False, kmesh_density=201, \\\n",
    "                                 kmesh_2D_limits=[-0.5, 0.5], save_bands_spin_texture=True)\n",
    "model.plot1D_bands(fout='spin_texture_1D_home_made.jpg', yaxis_lim=[-8, 6])\n",
    "\n",
    "# 2D interpolation and plotting\n",
    "# model.interpolate_bands_and_spin(kmesh_2D=True, kmesh_density=51, kmesh_2D_limits=[-0.5, 0.5], \\\n",
    "#                                    save_bands_spin_texture=True)\n",
    "# model.plot2D_spin_texture(fig_name=\"spin_texture_2D_home_made.jpg\")\n"
   ]
  }
 ],
 "metadata": {
  "kernelspec": {
   "display_name": "Python 3",
   "language": "python",
   "name": "python3"
  },
  "language_info": {
   "codemirror_mode": {
    "name": "ipython",
    "version": 3
   },
   "file_extension": ".py",
   "mimetype": "text/x-python",
   "name": "python",
   "nbconvert_exporter": "python",
   "pygments_lexer": "ipython3",
   "version": "3.10.0"
  },
  "orig_nbformat": 4
 },
 "nbformat": 4,
 "nbformat_minor": 2
}
